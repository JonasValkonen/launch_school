{
 "cells": [
  {
   "cell_type": "code",
   "execution_count": 3,
   "id": "a383568d-a3c1-4731-89bf-26a236f4ef70",
   "metadata": {},
   "outputs": [
    {
     "name": "stdout",
     "output_type": "stream",
     "text": [
      "input: -11  -  output: 1\n",
      "input: -10  -  output: 0\n",
      "input: -9  -  output: 1\n",
      "input: -8  -  output: 0\n",
      "input: -7  -  output: 1\n",
      "input: -6  -  output: 0\n",
      "input: -5  -  output: 1\n",
      "input: -4  -  output: 0\n",
      "input: -3  -  output: 1\n",
      "input: -2  -  output: 0\n",
      "input: -1  -  output: 1\n",
      "input: 0  -  output: 1\n",
      "input: 1  -  output: 1\n",
      "input: 2  -  output: 0\n",
      "input: 3  -  output: 1\n",
      "input: 4  -  output: 0\n",
      "input: 5  -  output: 1\n",
      "input: 6  -  output: 0\n",
      "input: 7  -  output: 1\n",
      "input: 8  -  output: 0\n",
      "input: 9  -  output: 1\n",
      "input: 10  -  output: 0\n"
     ]
    }
   ],
   "source": [
    "# Isn't it Odd?\n",
    "\n",
    "\"\"\"\n",
    "Write a function that takes one integer argument and returns \n",
    "True when the number's absolute value is odd, False otherwise.\n",
    "\"\"\"\n",
    "\n",
    "def odd_or_not(number):\n",
    "    if number == 0: return 1\n",
    "    return number % 2\n",
    "\n",
    "for num in range(-11,11):\n",
    "    print(f'input: {num}  -  output: {odd_or_not(num)}')"
   ]
  },
  {
   "cell_type": "code",
   "execution_count": null,
   "id": "9c6d649f-67c6-41a4-827f-4b31cfe3a1a7",
   "metadata": {},
   "outputs": [
    {
     "name": "stdout",
     "output_type": "stream",
     "text": [
      "1\n",
      "3\n",
      "5\n",
      "7\n",
      "9\n",
      "11\n",
      "13\n",
      "15\n",
      "17\n",
      "19\n",
      "21\n",
      "23\n",
      "25\n",
      "27\n",
      "29\n",
      "31\n",
      "33\n",
      "35\n",
      "37\n",
      "39\n",
      "41\n",
      "43\n",
      "45\n",
      "47\n",
      "49\n",
      "51\n",
      "53\n",
      "55\n",
      "57\n",
      "59\n",
      "61\n",
      "63\n",
      "65\n",
      "67\n",
      "69\n",
      "71\n",
      "73\n",
      "75\n",
      "77\n",
      "79\n",
      "81\n",
      "83\n",
      "85\n",
      "87\n",
      "89\n",
      "91\n",
      "93\n",
      "95\n",
      "97\n",
      "99\n"
     ]
    }
   ],
   "source": [
    "# Odd Numbers\n",
    "\n",
    "\"\"\"\n",
    "Print all odd numbers from 1 to 99, inclusive, with each \n",
    "number on a separate line.\n",
    "\n",
    "Bonus Question: Can you solve the problem by iterating \n",
    "over just the odd numbers?\n",
    "\"\"\"\n",
    "def odd_or_not(number):\n",
    "    if number == 0: return 1\n",
    "    return number % 2\n",
    "    \n",
    "def odd_numbers(first, last): #assuming ints\n",
    "    start_of_range = first\n",
    "    if first == 0: start_of_range += 1 #0 is not even or odd\n",
    "    elif not odd_or_not(first): start_of_range += 1 #every even is one away\n",
    "    output = list(range(start_of_range, last + 1, 2))\n",
    "    for num in output:\n",
    "        print(num)\n",
    "\n",
    "odd_numbers(1,99)"
   ]
  },
  {
   "cell_type": "code",
   "execution_count": 5,
   "id": "1bceb4fd-d988-4700-95ee-68f541476f14",
   "metadata": {},
   "outputs": [
    {
     "name": "stdout",
     "output_type": "stream",
     "text": [
      "2\n",
      "4\n",
      "6\n",
      "8\n",
      "10\n",
      "12\n",
      "14\n",
      "16\n",
      "18\n",
      "20\n",
      "22\n",
      "24\n",
      "26\n",
      "28\n",
      "30\n",
      "32\n",
      "34\n",
      "36\n",
      "38\n",
      "40\n",
      "42\n",
      "44\n",
      "46\n",
      "48\n",
      "50\n",
      "52\n",
      "54\n",
      "56\n",
      "58\n",
      "60\n",
      "62\n",
      "64\n",
      "66\n",
      "68\n",
      "70\n",
      "72\n",
      "74\n",
      "76\n",
      "78\n",
      "80\n",
      "82\n",
      "84\n",
      "86\n",
      "88\n",
      "90\n",
      "92\n",
      "94\n",
      "96\n",
      "98\n"
     ]
    }
   ],
   "source": [
    "# Even Numbers\n",
    "\n",
    "\"\"\"\n",
    "Print all even numbers from 1 to 99, inclusive, with each number \n",
    "on a separate line.\n",
    "\n",
    "Bonus Question: Can you solve the problem by iterating over just \n",
    "the even numbers?\n",
    "\"\"\"\n",
    "\n",
    "def odd_or_not(number):\n",
    "    if number == 0: return 1\n",
    "    return number % 2\n",
    "    \n",
    "def even_numbers(first, last): #assuming ints\n",
    "    start_of_range = first\n",
    "    if first == 0: start_of_range += 2 #0 is not even or odd\n",
    "    elif odd_or_not(first): start_of_range += 1 #every even is one away\n",
    "    output = list(range(start_of_range, last + 1, 2))\n",
    "    for num in output:\n",
    "        print(num)\n",
    "\n",
    "even_numbers(1,99)"
   ]
  },
  {
   "cell_type": "code",
   "execution_count": 6,
   "id": "ddf762fc-7dcd-4018-8edb-30b116ae088a",
   "metadata": {},
   "outputs": [
    {
     "name": "stdout",
     "output_type": "stream",
     "text": [
      "What is the width of the square room in meters?\n",
      "What is the length of the square room in meters?\n",
      "The room area is 8712.0 square meters / 1009385.76444552 square feet.\n"
     ]
    }
   ],
   "source": [
    "# How big is the room?\n",
    "\n",
    "\"\"\"\n",
    "Build a program that asks the user to enter the length and width of a room, in meters, then prints the room's area in both square meters and square feet.\n",
    "\n",
    "Note: 1 square meter == 10.7639 square feet\n",
    "\n",
    "\"\"\"\n",
    "\n",
    "print(\"What is the width of the square room in meters?\")\n",
    "width = float(input())\n",
    "print(\"What is the length of the square room in meters?\")\n",
    "length = float(input())\n",
    "\n",
    "m2_to_f2 = 10.7639\n",
    "\n",
    "area_m2 = width * length\n",
    "area_f2 = width * m2_to_f2 * length * m2_to_f2\n",
    "\n",
    "print(f'The room area is {area_m2} square meters / {area_f2} square feet.')"
   ]
  },
  {
   "cell_type": "code",
   "execution_count": null,
   "id": "d05c502b-f122-4815-b31d-95dce7431759",
   "metadata": {},
   "outputs": [
    {
     "name": "stdout",
     "output_type": "stream",
     "text": [
      "What is the bill?\n"
     ]
    },
    {
     "name": "stdout",
     "output_type": "stream",
     "text": [
      " 100\n"
     ]
    },
    {
     "name": "stdout",
     "output_type": "stream",
     "text": [
      "What is the tip percentage?\n"
     ]
    },
    {
     "name": "stdout",
     "output_type": "stream",
     "text": [
      " 10\n"
     ]
    },
    {
     "name": "stdout",
     "output_type": "stream",
     "text": [
      "The tip is $10.0\n",
      "The total is $110.0\n"
     ]
    }
   ],
   "source": [
    "# Tip calculator\n",
    "\n",
    "\"\"\"\n",
    "Create a simple tip calculator. The program should prompt for a \n",
    "bill amount and a tip rate. The program must compute the tip, \n",
    "then print both the tip and the total amount of the bill. \n",
    "You can ignore input validation and assume that the user will \n",
    "enter valid numbers.\n",
    "\"\"\"\n",
    "\n",
    "print(\"What is the bill?\")\n",
    "bill = float(input())\n",
    "print(\"What is the tip percentage?\")\n",
    "tip_percentage = float(input()) / 100\n",
    "tip = bill * tip_percentage\n",
    "total = bill + tip\n",
    "print(f'The tip is ${tip}')\n",
    "print(f'The total is ${total}')\n"
   ]
  },
  {
   "cell_type": "code",
   "execution_count": 7,
   "id": "3e24e561-32e2-47bd-9c1d-e23dbe65a27d",
   "metadata": {},
   "outputs": [
    {
     "name": "stdout",
     "output_type": "stream",
     "text": [
      "Please enter an integer greater than 0\n",
      "Enter \"s\" to compute the sum, or \"p\" to compute the product.\n",
      "120\n"
     ]
    }
   ],
   "source": [
    "# Sum or Product of Consecutive Integers\n",
    "\n",
    "print(\"Please enter an integer greater than 0\")\n",
    "input_int = int(input())\n",
    "print(\"\"\"Enter \"s\" to compute the sum, or \"p\" to compute the product.\"\"\")\n",
    "input_option = input()\n",
    "\n",
    "def multiply_list(product, input_num):\n",
    "    if input_num > 0:\n",
    "        input_num -= 1\n",
    "        return multiply_list(product * (input_num + 1), input_num)\n",
    "    else:\n",
    "        return product\n",
    "\n",
    "def add_list(sum_, input_num):\n",
    "    if input_num > 0:\n",
    "        input_num -= 1\n",
    "        return add_list(sum_ + input_num + 1, input_num)\n",
    "    else:\n",
    "        return sum_\n",
    "\n",
    "if input_option == \"p\":\n",
    "    print(multiply_list(1, input_int))\n",
    "elif input_option == \"s\":\n",
    "    print(add_list(0, input_int))\n",
    "\n"
   ]
  },
  {
   "cell_type": "markdown",
   "id": "1478c105-98a2-471a-ab73-f9f287e564c7",
   "metadata": {},
   "source": [
    "#### "
   ]
  },
  {
   "cell_type": "code",
   "execution_count": 78,
   "id": "edf3d946-6f54-498d-b851-aab690de2e52",
   "metadata": {},
   "outputs": [
    {
     "name": "stdout",
     "output_type": "stream",
     "text": [
      "True\n",
      "True\n",
      "True\n"
     ]
    }
   ],
   "source": [
    "#Short Long Short\n",
    "def short_long_short(string1, string2):\n",
    "    if len(string1) > len(string2):\n",
    "        return string2 + string1 + string2\n",
    "    else:\n",
    "        return string1 + string2 + string1\n",
    "\n",
    "print(short_long_short('abc', 'defgh') == \"abcdefghabc\")\n",
    "print(short_long_short('abcde', 'fgh') == \"fghabcdefgh\")\n",
    "print(short_long_short('', 'xyz') == \"xyz\")\n"
   ]
  },
  {
   "cell_type": "code",
   "execution_count": 86,
   "id": "6d491db6-74b4-4bf9-a552-c6fc72785046",
   "metadata": {},
   "outputs": [
    {
     "name": "stdout",
     "output_type": "stream",
     "text": [
      "True\n",
      "True\n",
      "True\n",
      "True\n",
      "True\n",
      "True\n",
      "True\n",
      "True\n",
      "True\n",
      "True\n",
      "True\n",
      "True\n",
      "True\n",
      "True\n",
      "True\n",
      "True\n",
      "True\n"
     ]
    }
   ],
   "source": [
    "#Leap Years (Part 1)\n",
    "def is_leap_year(year):\n",
    "    if (year % 400) == 0:\n",
    "        return True\n",
    "    elif (year % 100 == 0) and (year % 400 != 0):\n",
    "        return False\n",
    "    elif (year % 4 == 0) and (year % 100 != 0):\n",
    "        return True\n",
    "    else:\n",
    "        return False\n",
    "\n",
    "print(is_leap_year(1) == False)\n",
    "print(is_leap_year(2) == False)\n",
    "print(is_leap_year(3) == False)\n",
    "print(is_leap_year(4) == True)\n",
    "print(is_leap_year(1000) == False)\n",
    "print(is_leap_year(1100) == False)\n",
    "print(is_leap_year(1200) == True)\n",
    "print(is_leap_year(1300) == False)\n",
    "print(is_leap_year(1751) == False)\n",
    "print(is_leap_year(1752) == True)\n",
    "print(is_leap_year(1753) == False)\n",
    "print(is_leap_year(1800) == False)\n",
    "print(is_leap_year(1900) == False)\n",
    "print(is_leap_year(2000) == True)\n",
    "print(is_leap_year(2023) == False)\n",
    "print(is_leap_year(2024) == True)\n",
    "print(is_leap_year(2025) == False)"
   ]
  },
  {
   "cell_type": "code",
   "execution_count": 88,
   "id": "bd3e55dd-3d82-4d60-b2d0-2908c60b0cee",
   "metadata": {},
   "outputs": [
    {
     "name": "stdout",
     "output_type": "stream",
     "text": [
      "True\n",
      "True\n",
      "True\n",
      "True\n",
      "True\n",
      "True\n",
      "True\n",
      "True\n",
      "True\n",
      "True\n",
      "True\n",
      "True\n",
      "True\n",
      "True\n",
      "True\n",
      "True\n",
      "True\n"
     ]
    }
   ],
   "source": [
    "#Leap Years (Part 2)\n",
    "\n",
    "def is_leap_year(year):\n",
    "    if year < 1752:\n",
    "        if (year % 4 == 0):\n",
    "            return True\n",
    "        else:\n",
    "            return False\n",
    "    if year >= 1752:\n",
    "        if (year % 400) == 0:\n",
    "            return True\n",
    "        elif (year % 100 == 0) and (year % 400 != 0):\n",
    "            return False\n",
    "        elif (year % 4 == 0) and (year % 100 != 0):\n",
    "            return True\n",
    "        else:\n",
    "            return False\n",
    "\n",
    "\n",
    "print(is_leap_year(1) == False)\n",
    "print(is_leap_year(2) == False)\n",
    "print(is_leap_year(3) == False)\n",
    "print(is_leap_year(4) == True)\n",
    "print(is_leap_year(1000) == True)\n",
    "print(is_leap_year(1100) == True)\n",
    "print(is_leap_year(1200) == True)\n",
    "print(is_leap_year(1300) == True)\n",
    "print(is_leap_year(1751) == False)\n",
    "print(is_leap_year(1752) == True)\n",
    "print(is_leap_year(1753) == False)\n",
    "print(is_leap_year(1800) == False)\n",
    "print(is_leap_year(1900) == False)\n",
    "print(is_leap_year(2000) == True)\n",
    "print(is_leap_year(2023) == False)\n",
    "print(is_leap_year(2024) == True)\n",
    "print(is_leap_year(2025) == False)"
   ]
  },
  {
   "cell_type": "code",
   "execution_count": 97,
   "id": "7f768476-9e92-4631-8245-e2fddaaaf5e5",
   "metadata": {},
   "outputs": [
    {
     "name": "stdout",
     "output_type": "stream",
     "text": [
      "True\n",
      "True\n",
      "True\n",
      "True\n"
     ]
    }
   ],
   "source": [
    "#Multiples of 3 and 5 (recursive)\n",
    "\n",
    "\"\"\"\n",
    "Write a function that computes the sum of all numbers between \n",
    "1 and some other number, inclusive, that are multiples of 3 or 5. \n",
    "For instance, if the supplied number is 20, the result should be \n",
    "98 (3 + 5 + 6 + 9 + 10 + 12 + 15 + 18 + 20).\n",
    "\n",
    "You may assume that the number passed in is an integer greater \n",
    "than 1.\n",
    "\"\"\"\n",
    "\n",
    "def multisum(input_num):\n",
    "    return addList(0, input_num)\n",
    "\n",
    "def addList(sum_, input_num):\n",
    "    sum = 0\n",
    "    if input_num > 0:\n",
    "        if (input_num % 3 == 0) or (input_num % 5 == 0):\n",
    "            input_num -= 1\n",
    "            return addList(sum_ + input_num + 1, input_num)\n",
    "        else:\n",
    "            input_num -= 1\n",
    "            return addList(sum_, input_num)\n",
    "    else:\n",
    "        return sum_\n",
    "\n",
    "\n",
    "print(multisum(3) == 3)\n",
    "print(multisum(5) == 8)\n",
    "print(multisum(10) == 33)\n",
    "print(multisum(1000) == 234168)\n"
   ]
  },
  {
   "cell_type": "code",
   "execution_count": 117,
   "id": "ca0f3b39-c374-4e91-8a4e-dc3225da7bfd",
   "metadata": {},
   "outputs": [
    {
     "name": "stdout",
     "output_type": "stream",
     "text": [
      "True\n",
      "True\n",
      "True\n",
      "True\n"
     ]
    }
   ],
   "source": [
    "#Multiples of 3 and 5 (loop)\n",
    "\n",
    "\"\"\"\n",
    "Write a function that computes the sum of all numbers between \n",
    "1 and some other number, inclusive, that are multiples of 3 or 5. \n",
    "For instance, if the supplied number is 20, the result should be \n",
    "98 (3 + 5 + 6 + 9 + 10 + 12 + 15 + 18 + 20).\n",
    "\n",
    "You may assume that the number passed in is an integer greater \n",
    "than 1.\n",
    "\"\"\"\n",
    "\n",
    "def multisum(input_num):\n",
    "    sum_ = 0\n",
    "    for num in list(range(1, input_num + 1)):\n",
    "        if (num % 3 == 0) or (num % 5 == 0):\n",
    "            sum_ += num\n",
    "        \n",
    "    return sum_\n",
    "\n",
    "\n",
    "\n",
    "print(multisum(3) == 3)\n",
    "print(multisum(5) == 8)\n",
    "print(multisum(10) == 33)\n",
    "print(multisum(1000) == 234168)"
   ]
  },
  {
   "cell_type": "code",
   "execution_count": 118,
   "id": "1b31b054-e75f-4c66-b14f-006140e5d0f8",
   "metadata": {},
   "outputs": [
    {
     "name": "stdout",
     "output_type": "stream",
     "text": [
      "True\n",
      "True\n",
      "True\n",
      "True\n",
      "True\n",
      "True\n"
     ]
    }
   ],
   "source": [
    "#UTF-16 String Value\n",
    "\n",
    "\"\"\"\n",
    "Write a function that determines and returns the UTF-16 string \n",
    "value of a string passed in as an argument. The UTF-16 string \n",
    "value is the sum of the UTF-16 values of every character in the \n",
    "string. (You may use ord to determine the UTF-16 value of a \n",
    "character.)\n",
    "\"\"\"\n",
    "\n",
    "def utf16_value(string):\n",
    "    string_value = 0\n",
    "    for char in string:\n",
    "        string_value += ord(char)\n",
    "    return string_value\n",
    "\n",
    "# These examples should all print True\n",
    "print(utf16_value('Four score') == 984)\n",
    "print(utf16_value('Launch School') == 1251)\n",
    "print(utf16_value('a') == 97)\n",
    "print(utf16_value('') == 0)\n",
    "\n",
    "# The next three lines demonstrate that the code\n",
    "# works with non-ASCII characters from the UTF-16\n",
    "# character set.\n",
    "OMEGA = \"\\u03A9\"              # UTF-16 character 'Ω' (omega)\n",
    "print(utf16_value(OMEGA) == 937)\n",
    "print(utf16_value(OMEGA + OMEGA + OMEGA) == 2811)"
   ]
  },
  {
   "cell_type": "code",
   "execution_count": 4,
   "id": "356bb894-7fe2-4866-822e-3dc401f9483d",
   "metadata": {},
   "outputs": [
    {
     "name": "stdout",
     "output_type": "stream",
     "text": [
      "Hello John Q Doe! Nice to have a Master Plumber on board!\n"
     ]
    }
   ],
   "source": [
    "# Welcome Stranger\n",
    "\"\"\"\n",
    "Create a function that takes 2 arguments, a list and a dictionary. \n",
    "The list will contain 2 or more elements that, when joined with spaces, \n",
    "will produce a person's name. The dictionary will contain two keys, \n",
    "\"title\" and \"occupation\", and the appropriate values. Your function \n",
    "should return a greeting that uses the person's full name, and mentions \n",
    "the person's title.\n",
    "\"\"\"\n",
    "\n",
    "def greetings(name_list, title_occupation_map):\n",
    "    full_name = \" \".join(name_list)\n",
    "    title = \" \".join([title_occupation_map[\"title\"], title_occupation_map[\"occupation\"]])\n",
    "    return f'Hello {full_name}! Nice to have a {title} on around!'\n",
    "\n",
    "greeting = greetings(\n",
    "    [\"John\", \"Q\", \"Doe\"],\n",
    "    {\"title\": \"Master\", \"occupation\": \"Plumber\"},\n",
    ")\n",
    "print(greeting)\n",
    "# Hello, John Q Doe! Nice to have a Master Plumber around.\n"
   ]
  },
  {
   "cell_type": "code",
   "execution_count": null,
   "id": "b5c98cc3",
   "metadata": {},
   "outputs": [],
   "source": []
  }
 ],
 "metadata": {
  "kernelspec": {
   "display_name": "Python 3 (ipykernel)",
   "language": "python",
   "name": "python3"
  },
  "language_info": {
   "codemirror_mode": {
    "name": "ipython",
    "version": 3
   },
   "file_extension": ".py",
   "mimetype": "text/x-python",
   "name": "python",
   "nbconvert_exporter": "python",
   "pygments_lexer": "ipython3",
   "version": "3.10.14"
  }
 },
 "nbformat": 4,
 "nbformat_minor": 5
}
