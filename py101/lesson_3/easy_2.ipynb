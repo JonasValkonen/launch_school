{
 "cells": [
  {
   "cell_type": "code",
   "execution_count": 16,
   "metadata": {},
   "outputs": [
    {
     "name": "stdout",
     "output_type": "stream",
     "text": [
      "[5, 4, 3, 2, 1]\n",
      "[5, 4, 3, 2, 1]\n",
      "[5, 4, 3, 2, 1]\n",
      "[1, 2, 3, 4, 5]\n"
     ]
    }
   ],
   "source": [
    "# Question 1\n",
    "\"\"\"\n",
    "Write two distinct ways of reversing the list without mutating \n",
    "the original list.\n",
    "\"\"\"\n",
    "\n",
    "numbers = [1, 2, 3, 4, 5]     # [5, 4, 3, 2, 1]\n",
    "reverse_numbers1 = []\n",
    "for index in range(4,-1,-1):\n",
    "   reverse_numbers1.append(numbers[index])\n",
    "print(reverse_numbers1)\n",
    "\n",
    "reverse_numbers2 = numbers[::-1]\n",
    "print(reverse_numbers2)\n",
    "\n",
    "reverse_numbers3 = reversed(numbers)\n",
    "print(list(reverse_numbers3))\n",
    "\n",
    "print(numbers)"
   ]
  },
  {
   "cell_type": "code",
   "execution_count": 19,
   "metadata": {},
   "outputs": [
    {
     "name": "stdout",
     "output_type": "stream",
     "text": [
      "False\n",
      "True\n"
     ]
    }
   ],
   "source": [
    "# Question 2\n",
    "\"\"\"\n",
    "Given a number and a list, determine whether the number is \n",
    "included in the list.\n",
    "\"\"\"\n",
    "\n",
    "numbers = [1, 2, 3, 4, 5, 15, 16, 17, 95, 96, 99]\n",
    "\n",
    "number1 = 8  # False (not in numbers)\n",
    "number2 = 95 # True (in numbers)\n",
    "\n",
    "print(number1 in numbers)\n",
    "print(number2 in numbers)"
   ]
  },
  {
   "cell_type": "code",
   "execution_count": 25,
   "metadata": {},
   "outputs": [
    {
     "name": "stdout",
     "output_type": "stream",
     "text": [
      "True\n",
      "True\n",
      "False\n"
     ]
    }
   ],
   "source": [
    "# Question 3\n",
    "\"\"\"\n",
    "Programmatically determine whether 42 lies between 10 and 100, \n",
    "inclusive. Do the same for the values 100 and 101.\n",
    "\"\"\"\n",
    "\n",
    "print(42 in range(10, 100+1))\n",
    "print(100 in range(10, 100+1))\n",
    "print(101 in range(10, 100+1))"
   ]
  },
  {
   "cell_type": "code",
   "execution_count": 35,
   "metadata": {},
   "outputs": [
    {
     "name": "stdout",
     "output_type": "stream",
     "text": [
      "[1, 2, 4, 5]\n"
     ]
    }
   ],
   "source": [
    "# Question 4\n",
    "\"\"\"\n",
    "Given a list of numbers [1, 2, 3, 4, 5], mutate the list by \n",
    "removing the number at index 2, so that the list becomes \n",
    "[1, 2, 4, 5].\n",
    "\"\"\"\n",
    "\n",
    "numbers = [1, 2, 3, 4, 5]\n",
    "del numbers[2]\n",
    "print(numbers)"
   ]
  },
  {
   "cell_type": "code",
   "execution_count": 29,
   "metadata": {},
   "outputs": [
    {
     "name": "stdout",
     "output_type": "stream",
     "text": [
      "True\n",
      "False\n",
      "True\n",
      "False\n"
     ]
    }
   ],
   "source": [
    "# Question 5\n",
    "\"\"\"\n",
    "How would you verify whether the data structures assigned to the \n",
    "variables numbers and table are of type list?\n",
    "\"\"\"\n",
    "\n",
    "numbers = [1, 2, 3, 4]\n",
    "table = {'field1': 1, 'field2': 2, 'field3': 3, 'field4': 4}\n",
    "print(type(numbers) is list) \n",
    "print(type(table) is list)\n",
    "print(isinstance(numbers, list))\n",
    "print(isinstance(table, list))"
   ]
  },
  {
   "cell_type": "code",
   "execution_count": 39,
   "metadata": {},
   "outputs": [
    {
     "name": "stdout",
     "output_type": "stream",
     "text": [
      "       Flintstone Family Members        \n"
     ]
    }
   ],
   "source": [
    "# Question 6\n",
    "\"\"\"\n",
    "Back in the stone age (before CSS), we used spaces to align \n",
    "things on the screen. If we have a 40-character wide table of \n",
    "Flintstone family members, how can we center the following title \n",
    "above the table with spaces?\n",
    "\"\"\"\n",
    "\n",
    "title = \"Flintstone Family Members\"\n",
    "\n",
    "centered_title = title.center(40)\n",
    "print(centered_title)"
   ]
  },
  {
   "cell_type": "code",
   "execution_count": 41,
   "metadata": {},
   "outputs": [
    {
     "name": "stdout",
     "output_type": "stream",
     "text": [
      "2\n",
      "0\n"
     ]
    }
   ],
   "source": [
    "# Question 7\n",
    "\"\"\"\n",
    "Write a one-liner to count the number of lower-case t \n",
    "characters in each of the following strings:\n",
    "\"\"\"\n",
    "\n",
    "statement1 = \"The Flintstones Rock!\"\n",
    "statement2 = \"Easy come, easy go.\"\n",
    "print(statement1.count(\"t\"))\n",
    "print(statement2.count(\"t\"))"
   ]
  },
  {
   "cell_type": "code",
   "execution_count": 42,
   "metadata": {},
   "outputs": [
    {
     "data": {
      "text/plain": [
       "False"
      ]
     },
     "execution_count": 42,
     "metadata": {},
     "output_type": "execute_result"
    }
   ],
   "source": [
    "# Question 8\n",
    "\"\"\"\n",
    "Determine whether the following dictionary of people and their \n",
    "age contains an entry for 'Spot':\n",
    "\"\"\"\n",
    "\n",
    "ages = {'Herman': 32, 'Lily': 30, 'Grandpa': 402, 'Eddie': 10}\n",
    "'Spot' in ages"
   ]
  },
  {
   "cell_type": "code",
   "execution_count": 46,
   "metadata": {},
   "outputs": [
    {
     "name": "stdout",
     "output_type": "stream",
     "text": [
      "{'Herman': 32, 'Lily': 30, 'Grandpa': 5843, 'Eddie': 10, 'Marilyn': 22, 'Spot': 237}\n"
     ]
    }
   ],
   "source": [
    "# Question 9\n",
    "\"\"\"\n",
    "We have most of the Munster family in our ages dictionary:\n",
    "ages = {'Herman': 32, 'Lily': 30, 'Grandpa': 5843, 'Eddie': 10}\n",
    "Add entries for Marilyn and Spot to the dictionary:\n",
    "additional_ages = {'Marilyn': 22, 'Spot': 237}\n",
    "\"\"\"\n",
    "\n",
    "ages = {'Herman': 32, 'Lily': 30, 'Grandpa': 5843, 'Eddie': 10}\n",
    "additional_ages = {'Marilyn': 22, 'Spot': 237}\n",
    "ages.update(additional_ages)\n",
    "print(ages)"
   ]
  },
  {
   "cell_type": "markdown",
   "metadata": {},
   "source": []
  },
  {
   "cell_type": "markdown",
   "metadata": {},
   "source": []
  }
 ],
 "metadata": {
  "kernelspec": {
   "display_name": "env_c",
   "language": "python",
   "name": "python3"
  },
  "language_info": {
   "codemirror_mode": {
    "name": "ipython",
    "version": 3
   },
   "file_extension": ".py",
   "mimetype": "text/x-python",
   "name": "python",
   "nbconvert_exporter": "python",
   "pygments_lexer": "ipython3",
   "version": "3.10.14"
  }
 },
 "nbformat": 4,
 "nbformat_minor": 2
}
