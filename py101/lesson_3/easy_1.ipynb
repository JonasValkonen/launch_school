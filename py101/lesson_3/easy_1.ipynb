{
 "cells": [
  {
   "cell_type": "code",
   "execution_count": 2,
   "metadata": {},
   "outputs": [
    {
     "name": "stdout",
     "output_type": "stream",
     "text": [
      "True\n",
      "False\n",
      "True\n",
      "False\n"
     ]
    }
   ],
   "source": [
    "# Question 2\n",
    "\"\"\"\n",
    "How can you determine whether a given string ends with an exclamation mark (!)?\n",
    "Write some code that prints True or False depending on whether the string ends \n",
    "with an exclamation mark.\n",
    "\"\"\"\n",
    "def ends_with_exclamation(input):\n",
    "    if input[-1] == \"!\":\n",
    "        return True\n",
    "    else:\n",
    "        return False\n",
    "    \n",
    "str1 = \"Come over here!\"  # True\n",
    "str2 = \"What's up, Doc?\"  # False\n",
    "print(ends_with_exclamation(str1))\n",
    "print(ends_with_exclamation(str2))\n",
    "\n",
    "print(str1.endswith(\"!\"))\n",
    "print(str2.endswith(\"!\"))"
   ]
  },
  {
   "cell_type": "code",
   "execution_count": 8,
   "metadata": {},
   "outputs": [
    {
     "name": "stdout",
     "output_type": "stream",
     "text": [
      "Four score and seven years ago...\n",
      "Four score and seven years ago...\n"
     ]
    },
    {
     "ename": "TypeError",
     "evalue": "str.join() takes exactly one argument (2 given)",
     "output_type": "error",
     "traceback": [
      "\u001b[0;31m---------------------------------------------------------------------------\u001b[0m",
      "\u001b[0;31mTypeError\u001b[0m                                 Traceback (most recent call last)",
      "Cell \u001b[0;32mIn[8], line 9\u001b[0m\n\u001b[1;32m      7\u001b[0m \u001b[38;5;28mprint\u001b[39m(famous_words_start, famous_words)\n\u001b[1;32m      8\u001b[0m \u001b[38;5;28mprint\u001b[39m(famous_words_start \u001b[38;5;241m+\u001b[39m \u001b[38;5;124m\"\u001b[39m\u001b[38;5;124m \u001b[39m\u001b[38;5;124m\"\u001b[39m \u001b[38;5;241m+\u001b[39m famous_words)\n\u001b[0;32m----> 9\u001b[0m \u001b[38;5;28mprint\u001b[39m(\u001b[38;5;124;43m\"\u001b[39;49m\u001b[38;5;124;43m \u001b[39;49m\u001b[38;5;124;43m\"\u001b[39;49m\u001b[38;5;241;43m.\u001b[39;49m\u001b[43mjoin\u001b[49m\u001b[43m(\u001b[49m\u001b[43mfamous_words_start\u001b[49m\u001b[43m,\u001b[49m\u001b[43m \u001b[49m\u001b[43mfamous_words\u001b[49m\u001b[43m)\u001b[49m)\n",
      "\u001b[0;31mTypeError\u001b[0m: str.join() takes exactly one argument (2 given)"
     ]
    }
   ],
   "source": [
    "# Question 3\n",
    "\n",
    "\n",
    "famous_words = \"seven years ago...\"\n",
    "famous_words_start = \"Four score and\"\n",
    "\n",
    "print(famous_words_start, famous_words)\n",
    "print(famous_words_start + \" \" + famous_words)\n",
    "print(\" \".join([famous_words_start, famous_words]))"
   ]
  },
  {
   "cell_type": "code",
   "execution_count": null,
   "metadata": {},
   "outputs": [],
   "source": []
  }
 ],
 "metadata": {
  "kernelspec": {
   "display_name": "env_c",
   "language": "python",
   "name": "python3"
  },
  "language_info": {
   "codemirror_mode": {
    "name": "ipython",
    "version": 3
   },
   "file_extension": ".py",
   "mimetype": "text/x-python",
   "name": "python",
   "nbconvert_exporter": "python",
   "pygments_lexer": "ipython3",
   "version": "3.10.14"
  }
 },
 "nbformat": 4,
 "nbformat_minor": 2
}
