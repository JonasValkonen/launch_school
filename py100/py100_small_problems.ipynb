{
 "cells": [
  {
   "cell_type": "code",
   "execution_count": 11,
   "id": "a383568d-a3c1-4731-89bf-26a236f4ef70",
   "metadata": {},
   "outputs": [],
   "source": [
    "# Isn't it Odd?\n",
    "\n",
    "\"\"\"\n",
    "Write a function that takes one integer argument and returns \n",
    "True when the number's absolute value is odd, False otherwise.\n",
    "\"\"\"\n",
    "\n",
    "def oddOrNot(number):\n",
    "    if number == 0: return 1\n",
    "    return number % 2\n",
    "\n",
    "for num in range(-11,11):\n",
    "    print(f'input: {num}  -  output: {oddOrNot(num)}')"
   ]
  },
  {
   "cell_type": "code",
   "execution_count": 33,
   "id": "9c6d649f-67c6-41a4-827f-4b31cfe3a1a7",
   "metadata": {},
   "outputs": [
    {
     "name": "stdout",
     "output_type": "stream",
     "text": [
      "1\n",
      "3\n",
      "5\n",
      "7\n",
      "9\n",
      "11\n",
      "13\n",
      "15\n",
      "17\n",
      "19\n",
      "21\n",
      "23\n",
      "25\n",
      "27\n",
      "29\n",
      "31\n",
      "33\n",
      "35\n",
      "37\n",
      "39\n",
      "41\n",
      "43\n",
      "45\n",
      "47\n",
      "49\n",
      "51\n",
      "53\n",
      "55\n",
      "57\n",
      "59\n",
      "61\n",
      "63\n",
      "65\n",
      "67\n",
      "69\n",
      "71\n",
      "73\n",
      "75\n",
      "77\n",
      "79\n",
      "81\n",
      "83\n",
      "85\n",
      "87\n",
      "89\n",
      "91\n",
      "93\n",
      "95\n",
      "97\n",
      "99\n"
     ]
    }
   ],
   "source": [
    "# Odd Numbers\n",
    "\n",
    "\"\"\"\n",
    "Print all odd numbers from 1 to 99, inclusive, with each \n",
    "number on a separate line.\n",
    "\n",
    "Bonus Question: Can you solve the problem by iterating \n",
    "over just the odd numbers?\n",
    "\"\"\"\n",
    "def oddOrNot(number):\n",
    "    if number == 0: return 1\n",
    "    return number % 2\n",
    "    \n",
    "def oddNumbers(first, last): #assuming ints\n",
    "    start_of_range = first\n",
    "    if first == 0: start_of_range += 1 #0 is not even or odd\n",
    "    elif not oddOrNot(first): start_of_range += 1 #every even is one away\n",
    "    output = list(range(start_of_range, last + 1, 2))\n",
    "    for num in output:\n",
    "        print(num)\n",
    "\n",
    "oddNumbers(1,99)"
   ]
  },
  {
   "cell_type": "code",
   "execution_count": 34,
   "id": "1bceb4fd-d988-4700-95ee-68f541476f14",
   "metadata": {},
   "outputs": [
    {
     "name": "stdout",
     "output_type": "stream",
     "text": [
      "2\n",
      "4\n",
      "6\n",
      "8\n",
      "10\n",
      "12\n",
      "14\n",
      "16\n",
      "18\n",
      "20\n",
      "22\n",
      "24\n",
      "26\n",
      "28\n",
      "30\n",
      "32\n",
      "34\n",
      "36\n",
      "38\n",
      "40\n",
      "42\n",
      "44\n",
      "46\n",
      "48\n",
      "50\n",
      "52\n",
      "54\n",
      "56\n",
      "58\n",
      "60\n",
      "62\n",
      "64\n",
      "66\n",
      "68\n",
      "70\n",
      "72\n",
      "74\n",
      "76\n",
      "78\n",
      "80\n",
      "82\n",
      "84\n",
      "86\n",
      "88\n",
      "90\n",
      "92\n",
      "94\n",
      "96\n",
      "98\n"
     ]
    }
   ],
   "source": [
    "# Even Numbers\n",
    "\n",
    "\"\"\"\n",
    "Print all even numbers from 1 to 99, inclusive, with each number \n",
    "on a separate line.\n",
    "\n",
    "Bonus Question: Can you solve the problem by iterating over just \n",
    "the even numbers?\n",
    "\"\"\"\n",
    "\n",
    "def oddOrNot(number):\n",
    "    if number == 0: return 1\n",
    "    return number % 2\n",
    "    \n",
    "def oddNumbers(first, last): #assuming ints\n",
    "    start_of_range = first\n",
    "    if first == 0: start_of_range += 2 #0 is not even or odd\n",
    "    elif oddOrNot(first): start_of_range += 1 #every even is one away\n",
    "    output = list(range(start_of_range, last + 1, 2))\n",
    "    for num in output:\n",
    "        print(num)\n",
    "\n",
    "oddNumbers(1,99)"
   ]
  },
  {
   "cell_type": "code",
   "execution_count": 39,
   "id": "ddf762fc-7dcd-4018-8edb-30b116ae088a",
   "metadata": {},
   "outputs": [
    {
     "name": "stdout",
     "output_type": "stream",
     "text": [
      "What is the width of the square room in meters?\n"
     ]
    },
    {
     "name": "stdin",
     "output_type": "stream",
     "text": [
      " 11\n"
     ]
    },
    {
     "name": "stdout",
     "output_type": "stream",
     "text": [
      "What is the length of the square room in meters?\n"
     ]
    },
    {
     "name": "stdin",
     "output_type": "stream",
     "text": [
      " 11\n"
     ]
    },
    {
     "name": "stdout",
     "output_type": "stream",
     "text": [
      "The room area is 121.0 square meters / 14019.246728409997 square feet.\n"
     ]
    }
   ],
   "source": [
    "# How big is the room?\n",
    "\n",
    "\"\"\"\n",
    "Build a program that asks the user to enter the length and width of a room, in meters, then prints the room's area in both square meters and square feet.\n",
    "\n",
    "Note: 1 square meter == 10.7639 square feet\n",
    "\n",
    "\"\"\"\n",
    "\n",
    "print(\"What is the width of the square room in meters?\")\n",
    "width = float(input())\n",
    "print(\"What is the length of the square room in meters?\")\n",
    "length = float(input())\n",
    "\n",
    "m2_to_f2 = 10.7639\n",
    "\n",
    "area_m2 = width * length\n",
    "area_f2 = width * m2_to_f2 * length * m2_to_f2\n",
    "\n",
    "print(f'The room area is {area_m2} square meters / {area_f2} square feet.')"
   ]
  },
  {
   "cell_type": "code",
   "execution_count": 41,
   "id": "d05c502b-f122-4815-b31d-95dce7431759",
   "metadata": {},
   "outputs": [
    {
     "name": "stdout",
     "output_type": "stream",
     "text": [
      "What is the bill?\n"
     ]
    },
    {
     "name": "stdin",
     "output_type": "stream",
     "text": [
      " 100\n"
     ]
    },
    {
     "name": "stdout",
     "output_type": "stream",
     "text": [
      "What is the tip percentage?\n"
     ]
    },
    {
     "name": "stdin",
     "output_type": "stream",
     "text": [
      " 10\n"
     ]
    },
    {
     "name": "stdout",
     "output_type": "stream",
     "text": [
      "The tip is $10.0\n",
      "The total is $110.0\n"
     ]
    }
   ],
   "source": [
    "# Tip calculator\n",
    "\n",
    "\"\"\"\n",
    "Create a simple tip calculator. The program should prompt for a \n",
    "bill amount and a tip rate. The program must compute the tip, \n",
    "then print both the tip and the total amount of the bill. \n",
    "You can ignore input validation and assume that the user will \n",
    "enter valid numbers.\n",
    "\"\"\"\n",
    "\n",
    "print(\"What is the bill?\")\n",
    "bill = float(input())\n",
    "print(\"What is the tip percentage?\")\n",
    "tip_percentage = float(input()) / 100\n",
    "tip = bill * tip_percentage\n",
    "total = bill + tip\n",
    "print(f'The tip is ${tip}')\n",
    "print(f'The total is ${total}')\n"
   ]
  },
  {
   "cell_type": "code",
   "execution_count": 73,
   "id": "3e24e561-32e2-47bd-9c1d-e23dbe65a27d",
   "metadata": {},
   "outputs": [
    {
     "name": "stdout",
     "output_type": "stream",
     "text": [
      "Please enter an integer greater than 0\n"
     ]
    },
    {
     "name": "stdin",
     "output_type": "stream",
     "text": [
      " 4\n"
     ]
    },
    {
     "name": "stdout",
     "output_type": "stream",
     "text": [
      "Enter \"s\" to compute the sum, or \"p\" to compute the product.\n"
     ]
    },
    {
     "name": "stdin",
     "output_type": "stream",
     "text": [
      " s\n"
     ]
    },
    {
     "name": "stdout",
     "output_type": "stream",
     "text": [
      "10\n"
     ]
    }
   ],
   "source": [
    "# Sum or Product of Consecutive Integers\n",
    "\n",
    "print(\"Please enter an integer greater than 0\")\n",
    "input_int = int(input())\n",
    "print(\"\"\"Enter \"s\" to compute the sum, or \"p\" to compute the product.\"\"\")\n",
    "input_option = input()\n",
    "\n",
    "def multiplyList(product, input_num):\n",
    "    if input_num > 0:\n",
    "        input_num -= 1\n",
    "        return multiplyList(product * (input_num + 1), input_num)\n",
    "    else:\n",
    "        return product\n",
    "\n",
    "def addList(sum_, input_num):\n",
    "    if input_num > 0:\n",
    "        input_num -= 1\n",
    "        return addList(sum_ + input_num + 1, input_num)\n",
    "    else:\n",
    "        return sum_\n",
    "\n",
    "if input_option == \"p\":\n",
    "    print(multiplyList(1, input_int))\n",
    "elif input_option == \"s\":\n",
    "    print(addList(0, input_int))\n",
    "\n"
   ]
  },
  {
   "cell_type": "markdown",
   "id": "1478c105-98a2-471a-ab73-f9f287e564c7",
   "metadata": {},
   "source": [
    "#### "
   ]
  },
  {
   "cell_type": "code",
   "execution_count": 78,
   "id": "edf3d946-6f54-498d-b851-aab690de2e52",
   "metadata": {},
   "outputs": [
    {
     "name": "stdout",
     "output_type": "stream",
     "text": [
      "True\n",
      "True\n",
      "True\n"
     ]
    }
   ],
   "source": [
    "#Short Long Short\n",
    "def short_long_short(string1, string2):\n",
    "    if len(string1) > len(string2):\n",
    "        return string2 + string1 + string2\n",
    "    else:\n",
    "        return string1 + string2 + string1\n",
    "\n",
    "print(short_long_short('abc', 'defgh') == \"abcdefghabc\")\n",
    "print(short_long_short('abcde', 'fgh') == \"fghabcdefgh\")\n",
    "print(short_long_short('', 'xyz') == \"xyz\")\n"
   ]
  },
  {
   "cell_type": "code",
   "execution_count": null,
   "id": "6d491db6-74b4-4bf9-a552-c6fc72785046",
   "metadata": {},
   "outputs": [],
   "source": [
    "#Leap Years (Part 1)\n"
   ]
  }
 ],
 "metadata": {
  "kernelspec": {
   "display_name": "Python 3 (ipykernel)",
   "language": "python",
   "name": "python3"
  },
  "language_info": {
   "codemirror_mode": {
    "name": "ipython",
    "version": 3
   },
   "file_extension": ".py",
   "mimetype": "text/x-python",
   "name": "python",
   "nbconvert_exporter": "python",
   "pygments_lexer": "ipython3",
   "version": "3.12.4"
  }
 },
 "nbformat": 4,
 "nbformat_minor": 5
}
